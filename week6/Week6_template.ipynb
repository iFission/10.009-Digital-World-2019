{
 "cells": [
  {
   "cell_type": "markdown",
   "metadata": {},
   "source": [
    "# Week 6\n",
    "\n",
    "CS1 objectives:\n",
    "\n",
    "    1. Getting the substring from a string\n",
    "    2. Search for substring\n",
    "    3. Traverse a string\n",
    "    4. Compare a string"
   ]
  },
  {
   "cell_type": "code",
   "execution_count": null,
   "metadata": {
    "collapsed": true
   },
   "outputs": [],
   "source": [
    "#while loop to iterate over string and list:\n",
    "st = \"abcd\"\n",
    "while st:\n",
    "    print(st)\n",
    "    st = st[1:]\n",
    "    \n",
    "lst = [1,2,3,4]\n",
    "while lst:\n",
    "    print(lst)\n",
    "    lst = lst[1:]"
   ]
  },
  {
   "cell_type": "code",
   "execution_count": null,
   "metadata": {
    "collapsed": true
   },
   "outputs": [],
   "source": [
    "#placeholders and string format:\n",
    "st = \"1234567890\"\n",
    "fl = 0.0123456\n",
    "print(\"*{:>11}*\".format(st))\n",
    "print(\"*{:<15.9f}*\".format(fl))\n",
    "\n",
    "#adding keyword arguments:\n",
    "n1 = \"1\"\n",
    "n2 = \"2\"\n",
    "print(\"numbers {1}, {0} and {others}\".format(n1,n2,other=3))"
   ]
  },
  {
   "cell_type": "code",
   "execution_count": null,
   "metadata": {
    "collapsed": true
   },
   "outputs": [],
   "source": [
    "#slicing a string:\n",
    "st=\"The best of both Worlds\"\n",
    "best=st[4:8]\n",
    "print(best)\n",
    "\n",
    "st = \"x%^7impor4&*tant!\"\n",
    "sliced = st[4:9] + st[12:]\n",
    "print(sliced)"
   ]
  },
  {
   "cell_type": "code",
   "execution_count": null,
   "metadata": {
    "collapsed": true
   },
   "outputs": [],
   "source": [
    "#are strings mutable?\n",
    "st = \"important?\"\n",
    "st[9] = \"!\"\n",
    "print(st)"
   ]
  },
  {
   "cell_type": "code",
   "execution_count": null,
   "metadata": {
    "collapsed": true
   },
   "outputs": [],
   "source": [
    "#cannot assign new items to strings:\n",
    "st1=\"ThIs Is all capItal I\"\n",
    "st1 = st1.replace(\"I\",\"i\")\n",
    "st1 = st1.replace(\"capital\", \"small\")\n",
    "#st=list(st)\n",
    "print(st1)\n",
    "\n",
    "#strings methods: replace\n",
    "st2=\"The best of both Worlds\"\n",
    "st2 = st2.replace(\"b\",\"B\",1) #first argument is old, new then max times of replacement\n",
    "print(st2)"
   ]
  },
  {
   "cell_type": "code",
   "execution_count": null,
   "metadata": {
    "collapsed": true
   },
   "outputs": [],
   "source": [
    "#string methods:\n",
    "st = \"1234\"\n",
    "print(st.isnumeric()) #returns a boolean for numeric\n",
    "st = \"abcDEF\"\n",
    "print(st.isalpha()) #returns a boolean for alphabets\n",
    "st = \"123abcDEF\"\n",
    "print(st.isalnum()) #returns a boolean for alphanumeric"
   ]
  },
  {
   "cell_type": "code",
   "execution_count": null,
   "metadata": {
    "collapsed": true
   },
   "outputs": [],
   "source": [
    "#strings methods: upper and lower cases:\n",
    "st=\"The best of both Worlds\"\n",
    "stup=st.upper()\n",
    "stlow=st.lower()\n",
    "print(stup+'\\n'+stlow)"
   ]
  },
  {
   "cell_type": "code",
   "execution_count": null,
   "metadata": {
    "collapsed": true
   },
   "outputs": [],
   "source": [
    "#using find method:\n",
    "st=\"The best of both Worlds\"\n",
    "finder=st.find('both')\n",
    "print(\"Start index for both: \", finder) \n",
    "print(\"Can i be found?: \", st.find(\"i\"))\n",
    "\n",
    "#using strings to match:\n",
    "print('best' in st)\n",
    "print('' in st) #edge case"
   ]
  },
  {
   "cell_type": "markdown",
   "metadata": {},
   "source": [
    "```Qn: Write a function find2, quite similar to find, but allows an optional parameter and returns the index of the second character if the character argument is passed into find2. \n",
    "For example:\n",
    "st = \"Hello World\"\n",
    "print(find2(st, \"H\"))\n",
    "print(find2(st, \"H\", \"W\"))```\n",
    "\n",
    "```The output:\n",
    "(0, None)\n",
    "(0, 6)```"
   ]
  },
  {
   "cell_type": "code",
   "execution_count": null,
   "metadata": {
    "collapsed": true
   },
   "outputs": [],
   "source": [
    "def find2(st, ch1, ch2 = None):\n",
    "    pass\n",
    "\n",
    "st = \"Hello World\"\n",
    "print(find2(st, \"H\"))\n",
    "print(find2(st, \"H\", \"W\"))"
   ]
  },
  {
   "cell_type": "code",
   "execution_count": null,
   "metadata": {
    "collapsed": true
   },
   "outputs": [],
   "source": [
    "#strings method: split into list datatype\n",
    "st1 = \"The best of both Worlds\"\n",
    "split1 = st1.split()\n",
    "print(split1)\n",
    "\n",
    "st2 = \"The*best*of*both*Worlds\"\n",
    "split2 = st2.split('*')\n",
    "print(split2)"
   ]
  },
  {
   "cell_type": "code",
   "execution_count": null,
   "metadata": {
    "collapsed": true
   },
   "outputs": [],
   "source": [
    "#strings method: strip leading and trailing characters\n",
    "st=\"\\n\\tThe best of both Worlds\\n\"\n",
    "print(st)\n",
    "strip1 = st.strip()\n",
    "print(strip1)"
   ]
  },
  {
   "cell_type": "markdown",
   "metadata": {},
   "source": [
    "```Qn: The given string input is \"\\n\\tThe best of both Worlds\\n\". Write bunch of statements that transforms the original input to the output printed as \"ThebestofbothWorlds\".```"
   ]
  },
  {
   "cell_type": "code",
   "execution_count": null,
   "metadata": {
    "collapsed": true
   },
   "outputs": [],
   "source": [
    "#traversing the string - replace function:\n",
    "st=\"\\n\\tThe best of both Worlds\\n\"\n"
   ]
  },
  {
   "cell_type": "markdown",
   "metadata": {},
   "source": [
    "CS Q1"
   ]
  },
  {
   "cell_type": "code",
   "execution_count": null,
   "metadata": {
    "collapsed": true
   },
   "outputs": [],
   "source": [
    "st1=\"I am testing\"\n",
    "strev=st[::-1]\n",
    "print(strev)\n",
    "\n",
    "st2 = 'm'+'a'+'p'\n",
    "st3 = 'p'+'a'+'m'\n",
    "\n",
    "print(st2,st3)\n",
    "\n",
    "def reverse(st):\n",
    "    pass\n",
    "\n",
    "print(reverse(st1))"
   ]
  },
  {
   "cell_type": "code",
   "execution_count": null,
   "metadata": {
    "collapsed": true
   },
   "outputs": [],
   "source": [
    "#adding new list elements from left or right matters?\n",
    "lst1 = [0,1,2]\n",
    "lst2 = [3]\n",
    "print(lst2 + lst1)\n",
    "print(lst1 + lst2)"
   ]
  },
  {
   "cell_type": "markdown",
   "metadata": {},
   "source": [
    "CS Q2"
   ]
  },
  {
   "cell_type": "code",
   "execution_count": null,
   "metadata": {
    "collapsed": true
   },
   "outputs": [],
   "source": [
    "def checkpass(passwd):\n",
    "    lett='abcdefghijklmnopqrstuvwxyzABCDEFGHIJKLMNOPQRSTUVWXYZ'\n",
    "    num='1234567890'\n",
    "    pass\n",
    "\n",
    "passwd='tga3b4'\n",
    "print(checkpass(passwd))"
   ]
  },
  {
   "cell_type": "code",
   "execution_count": null,
   "metadata": {
    "collapsed": true
   },
   "outputs": [],
   "source": [
    "def checkpass(passwd):\n",
    "    pass\n",
    "\n",
    "passwd='tga3badAS1'\n",
    "print(checkpass(passwd))"
   ]
  },
  {
   "cell_type": "markdown",
   "metadata": {
    "collapsed": true
   },
   "source": [
    "CS Q3"
   ]
  },
  {
   "cell_type": "code",
   "execution_count": null,
   "metadata": {
    "collapsed": true
   },
   "outputs": [],
   "source": [
    "#longest prefix CS q2:\n",
    "f1=[1,2,3,4,5]\n",
    "f2=[3,4]\n",
    "f3=[1,3,4,5,6]\n",
    "zipped=zip(f1,f2,f3)\n",
    "for x,y,z in zipped:\n",
    "    print(x,y,z) #gives a truncated answer\n",
    "\n",
    "st1='Distance'\n",
    "st2='Disturb'\n",
    "def common(st1,st2):\n",
    "    pass\n",
    "\n",
    "common(st1,st2)"
   ]
  },
  {
   "cell_type": "code",
   "execution_count": null,
   "metadata": {
    "collapsed": true
   },
   "outputs": [],
   "source": [
    "#using zip:\n",
    "def common(z1,z2):\n",
    "    pass\n",
    "\n",
    "z1='distance'\n",
    "z2='distant'\n",
    "common(z1,z2)"
   ]
  },
  {
   "cell_type": "markdown",
   "metadata": {},
   "source": [
    "CS2 Objectives:\n",
    "\n",
    "    1. Open text file for reading\n",
    "    2. readline, readlines, split\n",
    "    3. For loop to read file\n",
    "    4. Write file"
   ]
  },
  {
   "cell_type": "markdown",
   "metadata": {},
   "source": [
    "File methods:\n",
    "\n",
    "fi.write(astring)\n",
    "- Add astring to the end of the file. fi must refer to a file that has been opened for writing.\n",
    "    \n",
    "fi.read()\n",
    "- Reads and returns a string of n characters, or the entire file as a single string if n is not provided.\n",
    "\n",
    "fi.readline()\t\n",
    "- Returns the next line of the file with all text up to and including the newline character. If n is provided as a parameter than only n characters will be returned if the line is longer than n.\n",
    "\n",
    "fi.readlines()\n",
    "- Returns a list of strings, each representing a single line of the file. If n is not provided then all lines of the file are returned. If n is provided then n characters are read but n is rounded up so that an entire line is returned.\n"
   ]
  },
  {
   "cell_type": "code",
   "execution_count": null,
   "metadata": {
    "collapsed": true
   },
   "outputs": [],
   "source": [
    "#open text file and readline:\n",
    "path=\"/Users/richmond_lee/AnacondaProjects/studentdata.txt\"\n",
    "fi = open(path,\"r\")\n",
    "line = fi.readline()\n",
    "#firstline=firstline.strip()\n",
    "fi.close()\n",
    "print(\"*{}*\".format(line))\n",
    "print(type(line))"
   ]
  },
  {
   "cell_type": "code",
   "execution_count": null,
   "metadata": {
    "collapsed": true
   },
   "outputs": [],
   "source": [
    "#while loop to iterate over string, list or file object:\n",
    "path=\"/Users/richmond_lee/AnacondaProjects/studentdata.txt\"\n",
    "fi = open(path,\"r\")\n",
    "lines = fi.readline().strip()\n",
    "while lines:\n",
    "    print(lines)\n",
    "    lines = fi.readline().strip()\n",
    "fi.close()"
   ]
  },
  {
   "cell_type": "code",
   "execution_count": null,
   "metadata": {
    "collapsed": true
   },
   "outputs": [],
   "source": [
    "#for loop to iterate over file object:\n",
    "path=\"/Users/richmond_lee/AnacondaProjects/studentdata.txt\"\n",
    "fi = open(path,\"r\")\n",
    "for line in fi:\n",
    "    print(line.strip())\n",
    "fi.close()"
   ]
  },
  {
   "cell_type": "code",
   "execution_count": null,
   "metadata": {
    "collapsed": true
   },
   "outputs": [],
   "source": [
    "#open text file and readlines:\n",
    "path=\"/Users/richmond_lee/AnacondaProjects/studentdata.txt\"\n",
    "fi=open(path,\"r\")\n",
    "firstline=fi.readlines()\n",
    "fi.close()\n",
    "print(firstline)\n",
    "print(type(firstline))"
   ]
  },
  {
   "cell_type": "code",
   "execution_count": null,
   "metadata": {
    "collapsed": true
   },
   "outputs": [],
   "source": [
    "#split and strip method:\n",
    "path=\"/Users/richmond_lee/AnacondaProjects/studentdata.txt\"\n",
    "fi=open(path,\"r\")\n",
    "lst=[]\n",
    "for fil in fi:\n",
    "    \n",
    "    line=fil.strip().split(', ')\n",
    "    lst.append(line)\n",
    "    \n",
    "fi.close()\n",
    "print(lst)"
   ]
  },
  {
   "cell_type": "code",
   "execution_count": null,
   "metadata": {
    "collapsed": true,
    "scrolled": false
   },
   "outputs": [],
   "source": [
    "#write files:\n",
    "path=\"/Users/richmond_lee/AnacondaProjects/studentdata.txt\"\n",
    "new=\"/Users/richmond_lee/AnacondaProjects/totalmarks.txt\"\n",
    "fi=open(path,\"r\")\n",
    "newfi=open(new,\"w\")\n",
    "with open(path,\"r\") as fi, open(new,\"w\") as newfi:\n",
    "    for fil in fi:\n",
    "\n",
    "        line = fil.strip().split(', ')\n",
    "        marks = line[1:]\n",
    "        total = 0\n",
    "        for m in marks:\n",
    "            total += int(m)\n",
    "        avg = round(total/(len(line)-1),1)\n",
    "        print(\"{:s}'s average is {:.1f}\".format(line[0],avg))\n",
    "        newli = line[0]+' '+'{:.1f}'.format(avg)+'\\n'\n",
    "        newfi.write(newli)"
   ]
  },
  {
   "cell_type": "markdown",
   "metadata": {
    "collapsed": true
   },
   "source": [
    "CS Q4"
   ]
  },
  {
   "cell_type": "code",
   "execution_count": null,
   "metadata": {
    "collapsed": true
   },
   "outputs": [],
   "source": [
    "import math \n",
    "\n",
    "class Coordinate():\n",
    "    x = 0.0\n",
    "    y = 0.0\n",
    "\n",
    "def get_maxmin_mag(f):\n",
    "    pass\n",
    "\n",
    "\n",
    "f = open('xy.dat','r')\n",
    "pmax, pmin = get_maxmin_mag(f)\n",
    "print('max : ({:f}, {:f})'.format(pmax.x, pmax.y))\n",
    "print('min : ({:f}, {:f})'.format (pmin.x, pmin.y))"
   ]
  },
  {
   "cell_type": "markdown",
   "metadata": {},
   "source": []
  },
  {
   "cell_type": "code",
   "execution_count": null,
   "metadata": {
    "collapsed": true
   },
   "outputs": [],
   "source": []
  },
  {
   "cell_type": "code",
   "execution_count": null,
   "metadata": {
    "collapsed": true
   },
   "outputs": [],
   "source": []
  }
 ],
 "metadata": {
  "kernelspec": {
   "display_name": "Python 3",
   "language": "python",
   "name": "python3"
  },
  "language_info": {
   "codemirror_mode": {
    "name": "ipython",
    "version": 3
   },
   "file_extension": ".py",
   "mimetype": "text/x-python",
   "name": "python",
   "nbconvert_exporter": "python",
   "pygments_lexer": "ipython3",
   "version": "3.6.3"
  }
 },
 "nbformat": 4,
 "nbformat_minor": 2
}
